{
  "cells": [
    {
      "cell_type": "markdown",
      "id": "c6b3f34c-589a-41d7-9a25-502ec7a5e93f",
      "metadata": {
        "id": "c6b3f34c-589a-41d7-9a25-502ec7a5e93f"
      },
      "source": [
        "# Домашнее задание 3 по численным методам."
      ]
    },
    {
      "cell_type": "markdown",
      "id": "e6135516-9d3d-45e3-8048-e0294e88f8c0",
      "metadata": {
        "id": "e6135516-9d3d-45e3-8048-e0294e88f8c0"
      },
      "source": [
        "# 1"
      ]
    },
    {
      "cell_type": "markdown",
      "id": "255fd3ec-e9b1-4875-9dfe-26c0314f8b28",
      "metadata": {
        "id": "255fd3ec-e9b1-4875-9dfe-26c0314f8b28"
      },
      "source": [
        "![image.png](attachment:3a5de9ea-1844-4986-872f-fe9133d42984.png)"
      ]
    },
    {
      "cell_type": "markdown",
      "id": "2e7f7a79-e501-492e-881e-e8aadd66840f",
      "metadata": {
        "id": "2e7f7a79-e501-492e-881e-e8aadd66840f"
      },
      "source": [
        "К моему огромному сожалению, в исследовании на устойчивость я где-то намудрил и не смог найти ошибку. Идея такова:\n",
        "1) Воспользоваться имеющимся уравнением без $y_{ij}^{n+1/2}$\n",
        "2) По критерию Неймана начать искать решение такого уравнения в виде $u_n^k = \\lambda^k e^{i\\alpha x} e^{i\\beta y}$\n",
        "3) Выразить $\\lambda$\n",
        "\n",
        "Скорее всего, для $\\forall \\ \\alpha \\ \\beta$ $|\\lambda|$ окажется $\\leqslant 1$"
      ]
    },
    {
      "cell_type": "markdown",
      "id": "c79ae0e9-7193-415b-b459-dde5f39d5fdf",
      "metadata": {
        "id": "c79ae0e9-7193-415b-b459-dde5f39d5fdf"
      },
      "source": [
        "# 2"
      ]
    },
    {
      "cell_type": "markdown",
      "id": "e5863784-3a01-4cf1-a6e1-0df6facbfa1c",
      "metadata": {
        "id": "e5863784-3a01-4cf1-a6e1-0df6facbfa1c"
      },
      "source": [
        "## Постановка задачи\n",
        "\n",
        "Уравнение теплопроводности. Решить продольно-поперечным методом начально-краевую задачу для двумерного уравнения теплопроводности:\n",
        "\n",
        "$$\n",
        "\\begin{array}{l}\n",
        "u_t = 2(u_{xx} + u_{yy}) + e^t\\cos\\dfrac{\\pi x}{2}\\sin\\dfrac{\\pi y}{2}, \\; x \\in [0;1], \\; y \\in [0;1], \\; t > 0,\\\\\n",
        "\\left.u\\right|_{t = 0} = 1 + xy,\\\\\n",
        "\\left.u\\right|_{x = 0} = 1 + \\dfrac{\\left(e^t - e^{-\\pi^2 t}\\right)}{1 + \\pi^2}\\sin\\dfrac{\\pi y}{2}, \\; &\\left.u\\right|_{x = 1} = 1 + y, \\\\\n",
        "\\left.u\\right|_{y = 0} = 1, \\; &\\left.u\\right|_{y = 1} = 1 + x + \\dfrac{\\left(e^t - e^{-\\pi^2 t}\\right)}{1 + \\pi^2}\\cos\\dfrac{\\pi x}{2}, \\\\\n",
        "\\end{array}\n",
        "$$"
      ]
    },
    {
      "cell_type": "markdown",
      "id": "8ab5d8b0-58c1-4d55-9d42-afe9c97454bb",
      "metadata": {
        "id": "8ab5d8b0-58c1-4d55-9d42-afe9c97454bb"
      },
      "source": [
        "## Сетка"
      ]
    },
    {
      "cell_type": "markdown",
      "id": "f7803bf4-cb57-4f69-8115-6229e8a2e108",
      "metadata": {
        "id": "f7803bf4-cb57-4f69-8115-6229e8a2e108"
      },
      "source": [
        "Для решения задачи зададим равномерную сетку размером $(N+1)\\times(N+1)$, пространственный шаг по обеим осям будет равен $\\dfrac{1}{N}$. Также дополнительно будем задавать некоторый временной промежуток для вычисления (ибо процесс не стационарен), откуда возьмём временной шаг как $\\dfrac{1}{N\\_timings}$"
      ]
    },
    {
      "cell_type": "markdown",
      "id": "689138ec-4fee-4fc5-acf6-63ffb07fcb70",
      "metadata": {
        "id": "689138ec-4fee-4fc5-acf6-63ffb07fcb70"
      },
      "source": [
        "## Продольно-поперечная схема"
      ]
    },
    {
      "cell_type": "markdown",
      "id": "e5bf106a-80c8-4fe8-a1ee-1445f24eac7b",
      "metadata": {
        "id": "e5bf106a-80c8-4fe8-a1ee-1445f24eac7b"
      },
      "source": [
        "Уравнения схемы:\n",
        "$$\n",
        "\\dfrac{u^{1/2}_{n,m} - u_{n,m}}{\\tau/2} = D\\left(\\dfrac{u^{1/2}_{n-1,m} - 2u^{1/2}_{n,m} + u^{1/2}_{n+1,m}}{h^2} + \\dfrac{u^{1/2}_{n,m-1} - 2u^{1/2}_{n,m} + u^{1/2}_{n,m+1}}{h^2}\\right) + f(x,y,t) \\\\\n",
        "\\dfrac{\\hat u_{n,m} - u^{1/2}_{n,m}}{\\tau/2} = D\\left(\\dfrac{u^{1/2}_{n-1,m} - 2u^{1/2}_{n,m} + u^{1/2}_{n+1,m}}{h^2} + \\dfrac{\\hat u_{n,m-1} - 2\\hat u_{n,m} + \\hat u_{n,m+1}}{h^2}\\right) + f(x,y,t)\n",
        "$$\n",
        "\n",
        "где $f(x,y,t) = e^t\\cos\\dfrac{\\pi x}{2}\\sin\\dfrac{\\pi y}{2}$"
      ]
    },
    {
      "cell_type": "markdown",
      "id": "bb558950-18ea-42f9-98a8-e1515198faf9",
      "metadata": {
        "id": "bb558950-18ea-42f9-98a8-e1515198faf9"
      },
      "source": [
        "Здесь верхний индекс $1/2$ обозначает дополнительный -- промежуточный -- слой, отсчитывающийся от нынешнего. Такая схема будет одновременно и явной, и неявной.\n",
        "\n",
        "Сначала решим первое уравнение, зафиксировав $m$: получим систему уравнений, решая которую получим значения по сетке в $m$-том ряду. Проитерируясь по всем $m$, получим искомые значения на промежуточном слое. Значения в краевых условиях можно подтянуть, если вычесть из второго уравнения первое.\n",
        "\n",
        "Таким образом, мы получили промежуточный слой, от которого теперь сможем отталкиваться по такой же схеме, только теперь фиксируя другую переменную, получая $n$-тую колонку."
      ]
    },
    {
      "cell_type": "code",
      "execution_count": null,
      "id": "991d4180-3638-4f82-9fe1-398eccf30b4b",
      "metadata": {
        "id": "991d4180-3638-4f82-9fe1-398eccf30b4b"
      },
      "outputs": [],
      "source": [
        "import numpy as np\n",
        "import matplotlib\n",
        "from scipy.linalg import solve_banded\n",
        "from matplotlib import pyplot as plt"
      ]
    },
    {
      "cell_type": "code",
      "execution_count": null,
      "id": "e7416d5e-5b0a-424e-8586-8449b6575959",
      "metadata": {
        "id": "e7416d5e-5b0a-424e-8586-8449b6575959"
      },
      "outputs": [],
      "source": [
        "# Initials and boundaries\n",
        "\n",
        "f = lambda x, y, t: np.exp(t)*np.cos(np.pi*x/2)*np.sin(np.pi*y/2)\n",
        "\n",
        "ut0 = lambda x, y: 1 + x*y\n",
        "\n",
        "ux0 = lambda y, t: 1 + (np.exp(t) - np.exp(-np.pi**2 * t))/(1 + np.pi**2)*np.sin(np.pi * y/2)\n",
        "\n",
        "ux1 = lambda y: 1 + y\n",
        "\n",
        "uy0 = 1\n",
        "\n",
        "uy1 = lambda x, t: 1 + x + (np.exp(t) - np.exp(-np.pi**2 * t))/(1 + np.pi**2)*np.cos(np.pi * x/2)"
      ]
    },
    {
      "cell_type": "code",
      "execution_count": null,
      "id": "eb1950ed-c68a-40af-b0be-844d1dce89b6",
      "metadata": {
        "id": "eb1950ed-c68a-40af-b0be-844d1dce89b6"
      },
      "outputs": [],
      "source": [
        "# Additional function to make code not so difficult to read\n",
        "\n",
        "def fill_half_layer(half_u, prev_u, curr_u, h, tau):\n",
        "    N = half_u.shape[0] - 1\n",
        "\n",
        "    for i in range(1, N):\n",
        "        nplus = curr_u[0,i+1] - prev_u[0, i+1]\n",
        "        n = curr_u[0,i] - prev_u[0,i]\n",
        "        nminus = curr_u[0, i-1] - prev_u[0, i-1]\n",
        "        half_u[0,i] = (curr_u[0,i] + prev_u[0,i])/2 - tau/(4 * h**2) * (nplus - 2*n + nminus)\n",
        "\n",
        "        nplus = curr_u[N,i+1] - prev_u[N, i+1]\n",
        "        n = curr_u[N,i] - prev_u[N,i]\n",
        "        nminus = curr_u[N, i-1] - prev_u[N, i-1]\n",
        "        half_u[N,i] = (curr_u[N,i] + prev_u[N,i])/2 - tau/(4 * h**2) * (nplus - 2*n + nminus)\n",
        "\n",
        "    return half_u"
      ]
    },
    {
      "cell_type": "code",
      "execution_count": null,
      "id": "0d6f79c5-7abd-41b6-a1c6-73581ad7bea4",
      "metadata": {
        "id": "0d6f79c5-7abd-41b6-a1c6-73581ad7bea4",
        "outputId": "0537fdfb-66dc-43ff-b190-7d362574bea5"
      },
      "outputs": [
        {
          "data": {
            "text/plain": [
              "<matplotlib.colorbar.Colorbar at 0x7fe5d4c0cbb0>"
            ]
          },
          "execution_count": 4,
          "metadata": {},
          "output_type": "execute_result"
        },
        {
          "data": {
            "image/png": "[encoded data removed]",
            "text/plain": [
              "<Figure size 640x480 with 2 Axes>"
            ]
          },
          "metadata": {},
          "output_type": "display_data"
        }
      ],
      "source": [
        "N = 50\n",
        "x_grid, h = np.linspace(0, 1, N+1, retstep=True)\n",
        "y_grid = np.linspace(0, 1, N+1)\n",
        "\n",
        "N_timings = 1000\n",
        "t_grid, tau = np.linspace(0, 2, N_timings + 1, retstep=True)\n",
        "\n",
        "current_u = np.zeros((N+1, N+1))\n",
        "\n",
        "for i, x in enumerate(x_grid):\n",
        "    for j, y in enumerate(y_grid):\n",
        "        current_u[i,j] = ut0(x,y) # Fill everything when t=0\n",
        "\n",
        "half_layer_u = np.zeros((N+1, N+1))\n",
        "b = np.zeros(N-1)\n",
        "\n",
        "A = np.zeros((3, N-1))\n",
        "A[0, :] = -2/h**2\n",
        "A[1, :] = 4/h**2 + 2/tau\n",
        "A[2, :] = -2/h**2\n",
        "\n",
        "for time in t_grid[:-1]:\n",
        "    previous_u = current_u.copy() # Copy to save\n",
        "\n",
        "    # All boundaries\n",
        "    current_u = np.zeros((N+1, N+1))\n",
        "    current_u[:, 0] = uy0\n",
        "    current_u[:, -1] = uy1(x_grid, time+tau)\n",
        "    current_u[0, 1:-1] = ux0(y_grid[1:-1], time+tau)\n",
        "    current_u[-1, 1:-1] = ux1(y_grid[1:-1])\n",
        "\n",
        "    half_layer_u = np.zeros((N+1, N+1))\n",
        "    half_layer_u = fill_half_layer(half_layer_u, previous_u, current_u, h, tau)\n",
        "\n",
        "    for i in range(1, N):\n",
        "        b = 2 * (previous_u[1:-1, i+1] - 2*previous_u[1:-1, i] + previous_u[1:-1, i-1])/h**2 + 2*previous_u[1:-1, i]/tau + f(x_grid[1:-1], y_grid[i], time+tau/2)\n",
        "        b[0] += 2*half_layer_u[0,i]/h**2\n",
        "        b[-1] += 2*half_layer_u[-1,i]/h**2\n",
        "        half_layer_u[1:-1, i] = solve_banded((1,1), A, b)\n",
        "\n",
        "    for j in range(1, N):\n",
        "        b = 2 * (half_layer_u[j+1, 1:-1] - 2*half_layer_u[j, 1:-1] + half_layer_u[j-1, 1:-1])/h**2 + 2*half_layer_u[j, 1:-1]/tau + f(x_grid[j], y_grid[1:-1], time+tau)\n",
        "        b[0] += 2*current_u[j, 0]/h**2\n",
        "        b[-1] += 2*current_u[j, -1]/h**2\n",
        "        current_u[j, 1:-1] = solve_banded((1,1), A, b)\n",
        "\n",
        "\n",
        "plt.imshow(current_u, cmap='inferno')\n",
        "plt.colorbar()"
      ]
    },
    {
      "cell_type": "markdown",
      "id": "da305b6c-a8ec-4158-84e0-9fe17c4fadef",
      "metadata": {
        "id": "da305b6c-a8ec-4158-84e0-9fe17c4fadef"
      },
      "source": [
        "Истинное решение данной задачи имеет вид:\n",
        "$$\n",
        "u = 1 + xy + \\dfrac{\\left(e^t - e^{-\\pi^2 t}\\right)}{1 + \\pi^2}\\cos\\dfrac{\\pi x}{2}\\sin\\dfrac{\\pi y}{2}\n",
        "$$"
      ]
    },
    {
      "cell_type": "code",
      "execution_count": null,
      "id": "92d29216-9565-4d8f-8535-4e265224b48a",
      "metadata": {
        "id": "92d29216-9565-4d8f-8535-4e265224b48a",
        "outputId": "3ef0b611-c83b-4e5b-e320-172344347986"
      },
      "outputs": [
        {
          "data": {
            "text/plain": [
              "<matplotlib.colorbar.Colorbar at 0x7fe5d4a66ac0>"
            ]
          },
          "execution_count": 5,
          "metadata": {},
          "output_type": "execute_result"
        },
        {
          "data": {
            "image/png": "[encoded data removed]",
            "text/plain": [
              "<Figure size 640x480 with 2 Axes>"
            ]
          },
          "metadata": {},
          "output_type": "display_data"
        }
      ],
      "source": [
        "true_solution = lambda x,y,t: 1 + x*y + (np.exp(t) - np.exp(-np.pi**2 * t))/(1 + np.pi**2)*np.cos(np.pi * x/2)*np.sin(np.pi * y/2)\n",
        "\n",
        "true_u = [[true_solution(x_grid[i], y_grid[j], time + tau) for j in range(N+1)] for i in range(N+1)]\n",
        "\n",
        "plt.imshow(np.array(true_u), cmap='inferno')\n",
        "plt.colorbar()"
      ]
    },
    {
      "cell_type": "markdown",
      "id": "b0083b55-ef86-45d3-9762-8789041455ab",
      "metadata": {
        "id": "b0083b55-ef86-45d3-9762-8789041455ab"
      },
      "source": [
        "Ошибка с посчитанным составила:"
      ]
    },
    {
      "cell_type": "code",
      "execution_count": null,
      "id": "b7e7df1b-79e4-49a0-a9af-303dbf9a00d6",
      "metadata": {
        "id": "b7e7df1b-79e4-49a0-a9af-303dbf9a00d6",
        "outputId": "a4334ab6-87fb-4c44-8df5-8f5972116122"
      },
      "outputs": [
        {
          "data": {
            "text/plain": [
              "0.0019631565312528297"
            ]
          },
          "execution_count": 6,
          "metadata": {},
          "output_type": "execute_result"
        }
      ],
      "source": [
        "np.linalg.norm(np.array(true_u) - current_u)"
      ]
    },
    {
      "cell_type": "markdown",
      "id": "e4983c02-fdd7-407f-918a-348c24f9434b",
      "metadata": {
        "id": "e4983c02-fdd7-407f-918a-348c24f9434b"
      },
      "source": [
        "А здесь я хочу визуализировать места, где ошибка больше всего. Как можно видеть, она накапливается ближе к середине рисунка, что вполне объяснимо из-за наличия краевых условий, которые ошибку не дают"
      ]
    },
    {
      "cell_type": "code",
      "execution_count": null,
      "id": "e92478fc-990e-44c5-88a5-aa38a919e415",
      "metadata": {
        "id": "e92478fc-990e-44c5-88a5-aa38a919e415",
        "outputId": "e87c940c-3a43-4778-b004-786d42426608"
      },
      "outputs": [
        {
          "data": {
            "text/plain": [
              "<matplotlib.colorbar.Colorbar at 0x7fe5d49a39d0>"
            ]
          },
          "execution_count": 7,
          "metadata": {},
          "output_type": "execute_result"
        },
        {
          "data": {
            "image/png": "[encoded data removed]",
            "text/plain": [
              "<Figure size 640x480 with 2 Axes>"
            ]
          },
          "metadata": {},
          "output_type": "display_data"
        }
      ],
      "source": [
        "plt.imshow(current_u - np.array(true_u), cmap='inferno')\n",
        "plt.colorbar()"
      ]
    }
  ],
  "metadata": {
    "kernelspec": {
      "display_name": "Python 3 (ipykernel)",
      "language": "python",
      "name": "python3"
    },
    "language_info": {
      "codemirror_mode": {
        "name": "ipython",
        "version": 3
      },
      "file_extension": ".py",
      "mimetype": "text/x-python",
      "name": "python",
      "nbconvert_exporter": "python",
      "pygments_lexer": "ipython3",
      "version": "3.9.13"
    },
    "colab": {
      "provenance": []
    }
  },
  "nbformat": 4,
  "nbformat_minor": 5
}