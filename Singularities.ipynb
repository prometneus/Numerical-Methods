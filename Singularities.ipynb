{
 "cells": [
  {
   "cell_type": "markdown",
   "id": "147ab8f6",
   "metadata": {},
   "source": [
    "Before you turn this problem in, make sure everything runs as expected. First, **restart the kernel** (in the menubar, select Kernel$\\rightarrow$Restart) and then **run all cells** (in the menubar, select Cell$\\rightarrow$Run All).\n",
    "\n",
    "Make sure you fill in any place that says `YOUR CODE HERE` or \"YOUR ANSWER HERE\", as well as your name and collaborators below:"
   ]
  },
  {
   "cell_type": "code",
   "execution_count": 1,
   "id": "3470c3fa",
   "metadata": {},
   "outputs": [],
   "source": [
    "NAME = \"Artem Burtsev\"\n",
    "COLLABORATORS = \"Me and only\""
   ]
  },
  {
   "cell_type": "markdown",
   "id": "fcac62cf",
   "metadata": {},
   "source": [
    "---"
   ]
  },
  {
   "cell_type": "markdown",
   "id": "83357c02",
   "metadata": {
    "deletable": false,
    "editable": false,
    "nbgrader": {
     "cell_type": "markdown",
     "checksum": "fb5c96d8c964fb45ec72c7f7fc98c42e",
     "grade": false,
     "grade_id": "cell-6250fa764b3a098c",
     "locked": true,
     "schema_version": 3,
     "solution": false,
     "task": false
    }
   },
   "source": [
    "# Integrable singularities\n",
    "\n",
    "Compue the integral\n",
    "\n",
    "$$\n",
    "I = \\int_{0}^{1}\\frac{e^x}{\\sqrt{x(1-x)}}dx.\n",
    "$$\n",
    "\n",
    "using the trapezoid formula. Note that the integrand diverges at the integration limits and the singularities are integrable (the integral itself exists). So, you will need to subtract these singularities.\n",
    "\n",
    "The following integrals might be useful:\n",
    "\n",
    "$$\n",
    "\\int_0^1 \\frac{1}{\\sqrt{x (1-x)}} \\, dx=\\pi,\\quad \\int_0^1 \\frac{x}{\\sqrt{x (1-x)}} \\, dx=\\pi/2.\n",
    "$$"
   ]
  },
  {
   "cell_type": "markdown",
   "id": "32dfa8b8",
   "metadata": {
    "deletable": false,
    "editable": false,
    "nbgrader": {
     "cell_type": "markdown",
     "checksum": "3c3c338a25bb2f6cd18e02eee09bc82d",
     "grade": false,
     "grade_id": "cell-8f2608864459aa2d",
     "locked": true,
     "points": 10,
     "schema_version": 3,
     "solution": false,
     "task": true
    }
   },
   "source": [
    "Transform the integral to subtract the singularities. Write out the formulas in the cell below (5pt, manual grading)."
   ]
  },
  {
   "cell_type": "markdown",
   "id": "87efbb65-83cc-4c2f-8c4a-45a63859e24f",
   "metadata": {},
   "source": [
    "$$\n",
    "I = \\int_{0}^{1}\\dfrac{e^x}{\\sqrt{x-x^2}}dx = \\int_0^1 \\dfrac{e^x - 1}{\\sqrt{x-x^2}}dx + \\int_0^1 \\dfrac{1}{\\sqrt{x-x^2}}dx = \\int_0^1 \\dfrac{e^x - 1}{\\sqrt{x-x^2}}dx + \\pi\n",
    "$$\n",
    "\n",
    "Thus, $\\lim\\limits_{x\\to 0} \\dfrac{e^x - 1}{\\sqrt{x-x^2}} = 0$. At the same time, \n",
    "\n",
    "$$\n",
    "I = \\int_{0}^{1}\\dfrac{e^x}{\\sqrt{x-x^2}}dx = \\int_0^1 \\dfrac{e^x - e}{\\sqrt{x-x^2}}dx + e\\int_0^1 \\dfrac{1}{\\sqrt{x-x^2}}dx = \\int_0^1 \\dfrac{e^x - e}{\\sqrt{x-x^2}}dx + \\pi e\n",
    "$$\n",
    "\n",
    "Where $\\lim\\limits_{x\\to 1} \\dfrac{e^x - e}{\\sqrt{x-x^2}} = 0$\n",
    "\n",
    "Overall, $I = \\int\\limits_{0}^{1}\\dfrac{e^x}{\\sqrt{x-x^2}}dx = \\int\\limits_0^{0.5} \\dfrac{e^x - 1}{\\sqrt{x-x^2}}dx + \\int\\limits_{0.5}^1 \\dfrac{e^x - e}{\\sqrt{x-x^2}}dx + \\dfrac{\\pi}{2}(1 + e)$"
   ]
  },
  {
   "cell_type": "markdown",
   "id": "f514b129",
   "metadata": {
    "deletable": false,
    "editable": false,
    "nbgrader": {
     "cell_type": "markdown",
     "checksum": "9a7f787065324defbd03f0e15c74623b",
     "grade": false,
     "grade_id": "cell-6d3b9f7e6261b99a",
     "locked": true,
     "schema_version": 3,
     "solution": false,
     "task": false
    }
   },
   "source": [
    "Write a function which computes the value of the integrals using the trapezoid rule."
   ]
  },
  {
   "cell_type": "code",
   "execution_count": 2,
   "id": "e256d947",
   "metadata": {
    "deletable": false,
    "nbgrader": {
     "cell_type": "code",
     "checksum": "2067db26be5e9267e87e43723fd66b74",
     "grade": false,
     "grade_id": "cell-9e8a974c206201a3",
     "locked": false,
     "schema_version": 3,
     "solution": true,
     "task": false
    }
   },
   "outputs": [],
   "source": [
    "import numpy as np\n",
    "from numba import prange, njit\n",
    "\n",
    "@njit(parallel=True)\n",
    "def integ(npts=10):\n",
    "    \"\"\"Compute the value of the integral above.\n",
    "    \n",
    "    Subtract the singularities and use the trapezoid rule. \n",
    "    \n",
    "    Parameters\n",
    "    ----------\n",
    "    npts : int\n",
    "        The number of points for the trapezoid rule\n",
    "        \n",
    "    Returns\n",
    "    -------\n",
    "    I : float\n",
    "       The computed value of the integral\n",
    "    \"\"\"\n",
    "    \n",
    "    left_limit = (lambda x: (np.exp(x) - 1) / np.sqrt(x - x**2))\n",
    "    right_limit = (lambda x: (np.exp(x) - np.e) / np.sqrt(x - x**2)) \n",
    "    \n",
    "    X = np.linspace(0, 1, npts + 1)\n",
    "    step = 1 / npts\n",
    "    \n",
    "    result = 0\n",
    "    for point in prange(len(X) - 1):\n",
    "        if X[point] < 0.5 and X[point] != 0:\n",
    "            local_sum = left_limit(X[point]) + left_limit(X[point + 1])\n",
    "            result += 0.5 * step * local_sum\n",
    "        elif X[point] >= 0.5 and X[point + 1] != 1:\n",
    "            local_sum = right_limit(X[point]) + right_limit(X[point + 1])\n",
    "            result += 0.5 * step * local_sum\n",
    "            \n",
    "    return result + np.pi/2 * (np.e + 1)"
   ]
  },
  {
   "cell_type": "code",
   "execution_count": 3,
   "id": "3c374e52-8e20-4975-9ff4-5b492c551dfd",
   "metadata": {},
   "outputs": [
    {
     "data": {
      "text/plain": [
       "5.508429773887325"
      ]
     },
     "execution_count": 3,
     "metadata": {},
     "output_type": "execute_result"
    }
   ],
   "source": [
    "integ(100000000)"
   ]
  },
  {
   "cell_type": "code",
   "execution_count": 4,
   "id": "5748c568-de9f-49c3-9d1b-39b56df37905",
   "metadata": {
    "deletable": false,
    "editable": false,
    "nbgrader": {
     "cell_type": "code",
     "checksum": "843a7710bd2d005e2e7bd4baecfb9730",
     "grade": true,
     "grade_id": "cell-d30dfbfd2e3409f2",
     "locked": true,
     "points": 10,
     "schema_version": 3,
     "solution": false,
     "task": false
    }
   },
   "outputs": [],
   "source": [
    "### this is a test to check your computed value\n",
    "from numpy.testing import assert_allclose\n"
   ]
  }
 ],
 "metadata": {
  "kernelspec": {
   "display_name": "Python 3 (ipykernel)",
   "language": "python",
   "name": "python3"
  },
  "language_info": {
   "codemirror_mode": {
    "name": "ipython",
    "version": 3
   },
   "file_extension": ".py",
   "mimetype": "text/x-python",
   "name": "python",
   "nbconvert_exporter": "python",
   "pygments_lexer": "ipython3",
   "version": "3.8.8"
  }
 },
 "nbformat": 4,
 "nbformat_minor": 5
}
