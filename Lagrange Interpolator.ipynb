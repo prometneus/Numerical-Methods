{
 "cells": [
  {
   "cell_type": "markdown",
   "metadata": {},
   "source": [
    "Before you turn this problem in, make sure everything runs as expected. First, **restart the kernel** (in the menubar, select Kernel$\\rightarrow$Restart) and then **run all cells** (in the menubar, select Cell$\\rightarrow$Run All).\n",
    "\n",
    "Make sure you fill in any place that says `YOUR CODE HERE` or \"YOUR ANSWER HERE\", as well as your name and collaborators below:"
   ]
  },
  {
   "cell_type": "code",
   "execution_count": 1,
   "metadata": {},
   "outputs": [],
   "source": [
    "NAME = \"Artem Burtsev\"\n",
    "COLLABORATORS = \"Me and only\""
   ]
  },
  {
   "cell_type": "markdown",
   "metadata": {},
   "source": [
    "---"
   ]
  },
  {
   "cell_type": "markdown",
   "metadata": {
    "deletable": false,
    "editable": false,
    "nbgrader": {
     "cell_type": "markdown",
     "checksum": "59cd9999bf8de50236ebcf28c94470ef",
     "grade": false,
     "grade_id": "cell-af0193379161e7dd",
     "locked": true,
     "schema_version": 3,
     "solution": false,
     "task": false
    }
   },
   "source": [
    "# Lagrange interpolating polynomial.\n",
    "\n",
    "Implement a class which constructs the Lagrange interpolating polynomial given data arrays `xk` and `yk`."
   ]
  },
  {
   "cell_type": "code",
   "execution_count": 2,
   "metadata": {
    "deletable": false,
    "nbgrader": {
     "cell_type": "code",
     "checksum": "c209243c82df3a0862e2b45a6e133bbc",
     "grade": false,
     "grade_id": "cell-d459dee4d09527c4",
     "locked": false,
     "schema_version": 3,
     "solution": true,
     "task": false
    }
   },
   "outputs": [],
   "source": [
    "import numpy as np\n",
    "\n",
    "class LagrangeInterpolator:\n",
    "    \"\"\"Lagrange interpolating polynomial.\n",
    "    \n",
    "    Given a set of pairs ``(x_k, y_k)``, construct \n",
    "    a Lagrange polynomial ``f(x)``, such that\n",
    "    \n",
    "    .. math::\n",
    "\n",
    "        f(x_k) = y_k   for k =0, ..., n-1\n",
    "    \n",
    "    Parameters\n",
    "    ----------\n",
    "    xk : array_like, shape(n,)\n",
    "        Abscissas\n",
    "    yk : array_like, shape(n,)\n",
    "        Ordinates\n",
    "    \n",
    "    Attributes\n",
    "    ----------\n",
    "    __call__\n",
    "    \n",
    "    \"\"\"\n",
    "    def __init__(self, xk, yk):\n",
    "        self.xk = np.asarray(xk, dtype=float)\n",
    "        self.yk = np.asarray(yk, dtype=float)\n",
    "        \n",
    "    def __call__(self, x):\n",
    "        \"\"\"Evaluate the interpolator at a given point.\n",
    "        \n",
    "        Parameters\n",
    "        ----------\n",
    "        x : float\n",
    "        \n",
    "        Returns\n",
    "        -------\n",
    "        the value of the interpolator at ``x``.\n",
    "        \"\"\"\n",
    "        n = len(self.xk)\n",
    "        \n",
    "        def l(x, index):\n",
    "            result = 1\n",
    "            for current_index in range(n):\n",
    "                if current_index != index:\n",
    "                    result *= (x - self.xk[current_index])/(self.xk[index] - self.xk[current_index])\n",
    "            return result\n",
    "        \n",
    "        value = 0\n",
    "        for index in range(n):\n",
    "            value += self.yk[index] * l(x, index)\n",
    "        return value"
   ]
  },
  {
   "cell_type": "code",
   "execution_count": 3,
   "metadata": {
    "deletable": false,
    "editable": false,
    "nbgrader": {
     "cell_type": "code",
     "checksum": "05fcc7ea506078b2ac88e8e0cb9ec051",
     "grade": true,
     "grade_id": "cell-02e34e05d317dfb2",
     "locked": true,
     "points": 7,
     "schema_version": 3,
     "solution": false,
     "task": false
    }
   },
   "outputs": [],
   "source": [
    "def runge_func(x, a=25):\n",
    "    return 1.0 / (1.0 + a*x**2)\n",
    "\n",
    "xx = np.linspace(-2, 2, 21)\n",
    "yy = runge_func(xx)\n",
    "\n",
    "lagr = LagrangeInterpolator(xx, yy)\n",
    "\n",
    "from numpy.testing import assert_allclose\n",
    "\n",
    "assert_allclose(yy,\n",
    "                [lagr(xval) for xval in xx],\n",
    "                atol=1e-14)"
   ]
  },
  {
   "cell_type": "markdown",
   "metadata": {
    "deletable": false,
    "editable": false,
    "nbgrader": {
     "cell_type": "markdown",
     "checksum": "6d04ab6f10519e1ddaf089a29532bcaf",
     "grade": false,
     "grade_id": "cell-f22c0c63fb0a5202",
     "locked": true,
     "schema_version": 3,
     "solution": false,
     "task": false
    }
   },
   "source": [
    "## The Runge phenomenon\n",
    "\n",
    "Now consider the Runge function, $y = 1/(1 + 25x^2)$. Interpolate this function on the interval $x\\in [-2, 2]$, \n",
    "using Lagrange polynomials with $m=3, 5, 7, 11$. Use a uniform mesh. Plot the resulting interpolants together with the original function, $f(x)$.\n",
    "Discuss.\n",
    "\n",
    "(extra exercise, ungraded)"
   ]
  },
  {
   "cell_type": "code",
   "execution_count": 4,
   "metadata": {},
   "outputs": [],
   "source": [
    "# YOUR CODE AND COMMENTS HERE"
   ]
  },
  {
   "cell_type": "markdown",
   "metadata": {
    "deletable": false,
    "editable": false,
    "nbgrader": {
     "cell_type": "markdown",
     "checksum": "c282ff5cd6f6695271524116baef946a",
     "grade": false,
     "grade_id": "cell-85ba04126049ea4b",
     "locked": true,
     "schema_version": 3,
     "solution": false,
     "task": false
    }
   },
   "source": [
    "Implement a function which returns Chebyshev nodes, i.e. the roots of the Chebyshev polynomial of the first kind  of a given degree."
   ]
  },
  {
   "cell_type": "code",
   "execution_count": 5,
   "metadata": {
    "deletable": false,
    "nbgrader": {
     "cell_type": "code",
     "checksum": "ed7296ad8e3d37cc4f758f93fe4030a1",
     "grade": false,
     "grade_id": "cell-43b1fb4f14c698bc",
     "locked": false,
     "schema_version": 3,
     "solution": true,
     "task": false
    }
   },
   "outputs": [],
   "source": [
    "def cheb_nodes(n, a=-1, b=1):\n",
    "    r\"\"\"Chebyshev nodes of degree $n$ on $[a, b]$\n",
    "    \"\"\"\n",
    "    nodes = [1/2*(a + b) + 1/2*(b - a) * np.cos((2*k + 1)*np.pi/(2*n)) for k in range(n)]\n",
    "    return nodes[::-1]"
   ]
  },
  {
   "cell_type": "code",
   "execution_count": 6,
   "metadata": {
    "deletable": false,
    "editable": false,
    "nbgrader": {
     "cell_type": "code",
     "checksum": "8271bed5f4edc22b2b978d462ac02911",
     "grade": true,
     "grade_id": "cell-1ea45f1e8dc8a36d",
     "locked": true,
     "points": 3,
     "schema_version": 3,
     "solution": false,
     "task": false
    }
   },
   "outputs": [],
   "source": [
    "nodes_11 = cheb_nodes(11)\n",
    "nodes_11 = np.asarray(nodes_11)\n",
    "assert (nodes_11[1:] > nodes_11[:-1]).all()\n",
    "\n",
    "from scipy.special import roots_chebyt\n",
    "nodes, weights = roots_chebyt(5) \n",
    "\n",
    "assert_allclose(cheb_nodes(5),\n",
    "                nodes, atol=1e-14)\n",
    "\n",
    "assert_allclose(cheb_nodes(5, a=-1, b=3),\n",
    "                nodes*2 + 1, atol=1e-14)"
   ]
  },
  {
   "cell_type": "markdown",
   "metadata": {
    "deletable": false,
    "editable": false,
    "nbgrader": {
     "cell_type": "markdown",
     "checksum": "540c8e2c5beca1b7463e6246a53fe1dd",
     "grade": false,
     "grade_id": "cell-f3f041eb7603b2c5",
     "locked": true,
     "schema_version": 3,
     "solution": false,
     "task": false
    }
   },
   "source": [
    "Repeat the Lagrange interpolation of the Runge function using Chebyshev nodes. Plot the interpolants.\n",
    "Also plot the cubic spline interpolation of the same data (`scipy.interpolate.CubicSpline`).\n",
    "Compare the magnitude of the Runge phenomenon for the uniform mesh and the Chebyshev mesh. Does the spline interpolant demonstrate the Runge phenomenon?\n",
    "\n",
    "(extra exercise, ungraded)"
   ]
  },
  {
   "cell_type": "code",
   "execution_count": 7,
   "metadata": {},
   "outputs": [],
   "source": [
    "# YOUR CODE AND COMMENTS HERE"
   ]
  }
 ],
 "metadata": {
  "kernelspec": {
   "display_name": "Python 3 (ipykernel)",
   "language": "python",
   "name": "python3"
  },
  "language_info": {
   "codemirror_mode": {
    "name": "ipython",
    "version": 3
   },
   "file_extension": ".py",
   "mimetype": "text/x-python",
   "name": "python",
   "nbconvert_exporter": "python",
   "pygments_lexer": "ipython3",
   "version": "3.8.8"
  }
 },
 "nbformat": 4,
 "nbformat_minor": 4
}
