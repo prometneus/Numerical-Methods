{
  "cells": [
    {
      "cell_type": "markdown",
      "metadata": {
        "id": "5t5kxvd2OJ0g"
      },
      "source": [
        "# Отчёт по ДЗ1 ЧМ\n"
      ]
    },
    {
      "cell_type": "markdown",
      "metadata": {
        "id": "X6jNGMGUOJ0i"
      },
      "source": [
        "## Постановка задачи"
      ]
    },
    {
      "cell_type": "markdown",
      "metadata": {
        "id": "zaCi_hC6OJ0j"
      },
      "source": [
        "Решить начально-краевую задачу для однородного уравнения теплопроводности, которое задаётся следующим образом:\n",
        "$$\n",
        "\\begin{array}{l}\n",
        "\\dfrac{\\partial u}{\\partial t} = \\alpha \\dfrac{\\partial^2 u}{\\partial x^2} + f(x, t), \\; t > 0, \\; x \\in (0, l_x), \\\\\n",
        "\\left. u \\right|_{t=0} = u_0(x), \\\\\n",
        "\\left. u \\right|_{x=0} = \\mu_1(t), \\\\\n",
        "\\left. u \\right|_{x=l_x} = \\mu_2(t),\n",
        "\\end{array}$$\n",
        "где $u(x, t)$ - функция температуры, $\\alpha = const$ - коэффициент теплопроводности, $f(x, t)$ - функция источника.\n",
        "\n",
        "Однако в нашем случае $f(x,t) = 0$, что несколько упрощает задачу"
      ]
    },
    {
      "cell_type": "markdown",
      "metadata": {
        "deletable": false,
        "editable": false,
        "nbgrader": {
          "cell_type": "markdown",
          "checksum": "4f11f0c38a6d29d51b01539b8be09f48",
          "grade": false,
          "grade_id": "cell-eb438faed9707cd4",
          "locked": true,
          "schema_version": 3,
          "solution": false,
          "task": false
        },
        "id": "Ukw6Z5EuOJ0k"
      },
      "source": [
        "# Уравнение теплопроводности"
      ]
    },
    {
      "cell_type": "markdown",
      "metadata": {
        "deletable": false,
        "editable": false,
        "nbgrader": {
          "cell_type": "markdown",
          "checksum": "9615aa9e127c7c7e7f20703438b3cbdf",
          "grade": false,
          "grade_id": "cell-599ee3f9a235ac60",
          "locked": true,
          "schema_version": 3,
          "solution": false,
          "task": false
        },
        "id": "EzJVPa0zOJ0k"
      },
      "source": [
        "Начально-краевая задача для уравнения теплопроводности с постоянным коэффициентом в общем виде можно записать следующим образом:\n",
        "$$\n",
        "\\begin{array}{l}\n",
        "\\dfrac{\\partial u}{\\partial t} = \\alpha \\dfrac{\\partial^2 u}{\\partial x^2} + f(x, t), \\; t > 0, \\; x \\in (0, l_x), \\\\\n",
        "\\left. u \\right|_{t=0} = u_0(x), \\\\\n",
        "\\left. u \\right|_{x=0} = \\mu_1(t), \\\\\n",
        "\\left. u \\right|_{x=l_x} = \\mu_2(t),\n",
        "\\end{array}$$\n",
        "где $u(x, t)$ - функция температуры, $\\alpha = const$ - коэффициент теплопроводности, $f(x, t)$ - функция источника."
      ]
    },
    {
      "cell_type": "code",
      "execution_count": 1,
      "metadata": {
        "deletable": false,
        "editable": false,
        "nbgrader": {
          "cell_type": "code",
          "checksum": "e40b01cc4ffd9207675ad3603b9e6a01",
          "grade": false,
          "grade_id": "cell-1f3c409b83417207",
          "locked": true,
          "schema_version": 3,
          "solution": false,
          "task": false
        },
        "id": "YJ56cK_pOJ0k"
      },
      "outputs": [],
      "source": [
        "import numpy as np"
      ]
    },
    {
      "cell_type": "markdown",
      "metadata": {
        "deletable": false,
        "editable": false,
        "nbgrader": {
          "cell_type": "markdown",
          "checksum": "94a75ca8d7a3d8ad9d8a605fb2bd9eb9",
          "grade": false,
          "grade_id": "cell-5b3341c907f81351",
          "locked": true,
          "schema_version": 3,
          "solution": false,
          "task": false
        },
        "id": "HT0DAhNgOJ0l"
      },
      "source": [
        "## Явная схема"
      ]
    },
    {
      "cell_type": "markdown",
      "metadata": {
        "deletable": false,
        "editable": false,
        "nbgrader": {
          "cell_type": "markdown",
          "checksum": "cfae8c6cdd59b127da7c4dc337659719",
          "grade": false,
          "grade_id": "cell-c41e33ca4836e2d3",
          "locked": true,
          "schema_version": 3,
          "solution": false,
          "task": false
        },
        "id": "nwsYjc9jOJ0l"
      },
      "source": [
        "Запишем разностное уравнение явной схемы:\n",
        "$$\\dfrac{y_i^{k+1} - y_i^{k}}{\\tau} = \\alpha \\dfrac{y_{i+1}^{k} - 2 y_i^{k} + y_{i-1}^{k}}{h^2} + f_i^k,$$\n",
        "где $\\tau$ и $h$ - шаги по времени и пространству, $y_i^k$ - значение приближённого решения в точке $(i, k)$ сетки, $y_i^k$ - значение функции источника в той же точке сетки."
      ]
    },
    {
      "cell_type": "markdown",
      "metadata": {
        "id": "PQQdr-gPOJ0l"
      },
      "source": [
        "Откуда выразим $y_i^{k+1}$:\n",
        "$$y_i^{k+1} = \\tau\\alpha \\dfrac{y_{i+1}^{k} - 2 y_i^{k} + y_{i-1}^{k}}{h^2} + \\tau f_i^k + y_i^k$$"
      ]
    },
    {
      "cell_type": "markdown",
      "metadata": {
        "deletable": false,
        "editable": false,
        "nbgrader": {
          "cell_type": "markdown",
          "checksum": "55448bbf176c3205d497338340fb2e5b",
          "grade": false,
          "grade_id": "cell-9e9ed34da8999766",
          "locked": true,
          "schema_version": 3,
          "solution": false,
          "task": false
        },
        "id": "7_Wc6llEOJ0l"
      },
      "source": [
        "Аппроксимируем начальное и граничные условия:\n",
        "$$\n",
        "\\begin{array}{l}\n",
        "y_i^0 = u_0(x_i), \\; \\forall i = \\overline{0, N},\\\\\n",
        "y_0^k = \\mu_1(t_k), \\\\\n",
        "y_N^k = \\mu_2(t_k), \\; \\forall k > 0.\n",
        "\\end{array}$$"
      ]
    },
    {
      "cell_type": "markdown",
      "metadata": {
        "deletable": false,
        "editable": false,
        "nbgrader": {
          "cell_type": "markdown",
          "checksum": "70a3705b7bd57afbdc915479951e654e",
          "grade": false,
          "grade_id": "cell-cd0738c4dd71dd54",
          "locked": true,
          "schema_version": 3,
          "solution": false,
          "task": false
        },
        "id": "N1LqD7IJOJ0m"
      },
      "source": [
        "Запрограммируйте явную разностную схему решения начально-краевой задачи для однородного уравнения теплопроводности. Обратите внимание, что\n",
        "$$\\exists \\lim\\limits_{t \\rightarrow \\infty} u(x, t) = u_\\infty (x).$$\n",
        "поэтому расчёт в какой-то момент следует остановить (считать до установления).\n",
        "\n",
        "Во время проведения расчетов помните о том, что явная схема *условно* устойчива."
      ]
    },
    {
      "cell_type": "code",
      "execution_count": 2,
      "metadata": {
        "deletable": false,
        "nbgrader": {
          "cell_type": "code",
          "checksum": "bec85710cbeb5bb768f1dbc7b9b8bec8",
          "grade": false,
          "grade_id": "cell-a8cff91eb9385405",
          "locked": false,
          "schema_version": 3,
          "solution": true,
          "task": false
        },
        "id": "MUEKbl-sOJ0m"
      },
      "outputs": [],
      "source": [
        "def heat_expl(init, bound1, bound2, alpha, lx, h, tau, tol=1e-3):\n",
        "    \"\"\" Solve the heat equation `u_t = a*u_xx` for x in (0; lx) with an explicit scheme.\n",
        "\n",
        "    Parameters\n",
        "    ----------\n",
        "    init : callable\n",
        "       Initial condition\n",
        "    bound1 : callable\n",
        "       Boundary condition for x = 0\n",
        "    bound1 : callable\n",
        "       Boundary condition for x = lx\n",
        "    alpha : float\n",
        "       Thermal diffusivity\n",
        "    h : float\n",
        "       Spatial step\n",
        "    tau : float\n",
        "       Time step\n",
        "    tol : float, optional\n",
        "       Target tolerance.\n",
        "       Stop iterations when the 2-norm of the difference between\n",
        "       solution on this time step and the next is less the tol.\n",
        "\n",
        "    Returns\n",
        "    -------\n",
        "    t_end : float\n",
        "       End time of calculation\n",
        "    u_end : ndarray, shape (N,)\n",
        "       Limit u_∞(x) (See above)\n",
        "    \"\"\"\n",
        "    N = int(lx/h) + 1 # The number of steps\n",
        "    temp = tau # To count timings\n",
        "\n",
        "    current_u = np.array([init(h*step) for step in range(N)]) # All initials\n",
        "    current_u[0], current_u[-1] = bound1(tau), bound2(tau) # Assume initial boundary conditions\n",
        "\n",
        "    error = 1\n",
        "    it = 1\n",
        "    while error > tol: # Breakpoint\n",
        "        previous_u = current_u.copy() # To count difference later\n",
        "        current_u[0], current_u[-1] = bound1(temp), bound2(temp) # Pass new boundary conditions\n",
        "        for i in range(1, N-1):\n",
        "            current_u[i] = tau*alpha*(previous_u[i+1] - 2*previous_u[i] + previous_u[i-1]) / (h**2) + \\\n",
        "                     + previous_u[i] # Recalculate u using formula\n",
        "\n",
        "        if it == 100000: # In case it doesn't converge\n",
        "            raise ValueError('The scheme didn\\'t provide conversion')\n",
        "\n",
        "        temp += tau # Increment time step\n",
        "        error = np.linalg.norm(current_u - previous_u) # Recalculate the error\n",
        "        it += 1 # Increment the iteration number\n",
        "\n",
        "    return temp, current_u"
      ]
    },
    {
      "cell_type": "markdown",
      "metadata": {
        "deletable": false,
        "editable": false,
        "nbgrader": {
          "cell_type": "markdown",
          "checksum": "161e6cfc6c31256b81150e6aa10e5557",
          "grade": false,
          "grade_id": "cell-6e6f806519c00523",
          "locked": true,
          "schema_version": 3,
          "solution": false,
          "task": false
        },
        "id": "ASC0HbBtOJ0m"
      },
      "source": [
        "Протестируйте Вашу функцию."
      ]
    },
    {
      "cell_type": "code",
      "execution_count": 3,
      "metadata": {
        "deletable": false,
        "editable": false,
        "nbgrader": {
          "cell_type": "code",
          "checksum": "431e49578ffa8c8b179843350e9f253d",
          "grade": true,
          "grade_id": "cell-8e9200a6957eee67",
          "locked": true,
          "points": 10,
          "schema_version": 3,
          "solution": false,
          "task": false
        },
        "id": "3aF0mXBXOJ0n"
      },
      "outputs": [],
      "source": [
        "from numpy.testing import assert_allclose\n",
        "\n",
        "t_0, u_0 = heat_expl(lambda x: 0., lambda x: 1., lambda x: 1.,\n",
        "                     alpha=1., lx=1., h=0.1, tau=0.005)\n",
        "assert_allclose(u_0, np.ones(11), atol=1e-2)\n",
        "\n",
        "t_1, u_1 = heat_expl(lambda x: np.sin(4.*x), lambda x: 0., lambda x: 0.,\n",
        "                     alpha=1., lx=np.pi, h=0.1, tau=0.005)\n",
        "assert_allclose(u_1, np.zeros(32), atol=1e-2)\n"
      ]
    },
    {
      "cell_type": "markdown",
      "metadata": {
        "deletable": false,
        "editable": false,
        "nbgrader": {
          "cell_type": "markdown",
          "checksum": "5bd485d2ea76944454b02cfed02849b7",
          "grade": false,
          "grade_id": "cell-64305ddcd2371d49",
          "locked": true,
          "points": 0,
          "schema_version": 3,
          "solution": false,
          "task": true
        },
        "id": "DVVnE1jeOJ0n"
      },
      "source": [
        "Определите порядки точности схемы (по пространству и времени) на тестовой задаче. Для этого для каждой переменной ($t$ или $x$):\n",
        "\n",
        "1. Сделайте несколько расчётов для разных значений шага (например, $h_0, \\; 2 h_0, \\; 4 h_0$).\n",
        "2. В один и тот же момент времени $t_1$ найдите ошибку полученных решений. Для этого либо возьмите аналитическое решение задачи, либо сравните результат в конечный момент времени, например, с решением в момент времени $0.99 t_1$. Обратите внимание, что имеющуюся функцию `heat_expl` надо немного модифицировать.\n",
        "3. Найдите отношения этих ошибок. Сопоставьте полученные величины с порядком аппроксимации схемы по данной переменной."
      ]
    },
    {
      "cell_type": "code",
      "execution_count": 4,
      "metadata": {
        "id": "1ydmfK_JOJ0n"
      },
      "outputs": [],
      "source": [
        "import matplotlib\n",
        "from matplotlib import pyplot as plt"
      ]
    },
    {
      "cell_type": "code",
      "execution_count": 5,
      "metadata": {
        "id": "psO4oWsnOJ0n"
      },
      "outputs": [],
      "source": [
        "def modified_heat_expl(init, bound1, bound2, alpha, lx, h, tau, time_stop, true_solution, tol=1e-3):\n",
        "\n",
        "    N = int(lx/h) + 1 # The number of steps\n",
        "    temp = tau # To count timings\n",
        "    length = h # To count spatial distance\n",
        "    errs = list()\n",
        "\n",
        "    current_u = np.array([init(h*step) for step in range(N)]) # All initials\n",
        "    current_u[0], current_u[-1] = bound1(tau), bound2(tau) # Assume initial boundary conditions\n",
        "\n",
        "    time_error, spatial_error = 0, 0\n",
        "    error = 1\n",
        "    while error > tol: # Breakpoint\n",
        "        previous_u = current_u.copy() # To count difference later\n",
        "        current_u[0], current_u[-1] = bound1(temp), bound2(temp) # Pass new boundary conditions\n",
        "        for i in range(1, N-1):\n",
        "            current_u[i] = tau*alpha*(previous_u[i+1] - 2*previous_u[i] + previous_u[i-1]) / (h**2) + \\\n",
        "                     + previous_u[i] # Recalculate u using formula\n",
        "\n",
        "#         print(temp)\n",
        "        time_error = np.linalg.norm(true_solution(length, temp) - current_u)\n",
        "        errs.append(time_error)\n",
        "        temp += tau # Increment time step counter\n",
        "        length += h\n",
        "        error = np.linalg.norm(current_u - previous_u) # Recalculate the error\n",
        "\n",
        "    return temp, current_u, time_error"
      ]
    },
    {
      "cell_type": "code",
      "execution_count": 16,
      "metadata": {
        "deletable": false,
        "nbgrader": {
          "cell_type": "code",
          "checksum": "21d545230c2f40b2511e2f189c8510e4",
          "grade": true,
          "grade_id": "cell-b2f692271d252c77",
          "locked": false,
          "points": 10,
          "schema_version": 3,
          "solution": true,
          "task": false
        },
        "colab": {
          "base_uri": "https://localhost:8080/",
          "height": 996
        },
        "id": "nqE1oLvIOJ0n",
        "outputId": "414b8d75-c099-4bc9-8b5d-c87feca0cc6e"
      },
      "outputs": [
        {
          "output_type": "stream",
          "name": "stdout",
          "text": [
            "Time error for 𝜏 = 0.005 is 1.192\n",
            "Time error for 𝜏 = 0.01 is 1.016\n",
            "Time error for 𝜏 = 0.015 is 0.866\n",
            "Time error for 𝜏 = 0.02 is 0.738\n",
            "Time error for 𝜏 = 0.025 is 0.629\n",
            "Time error for 𝜏 = 0.03 is 0.536\n",
            "Time error for 𝜏 = 0.035 is 0.457\n",
            "Time error for 𝜏 = 0.04 is 0.389\n",
            "Time error for 𝜏 = 0.045 is 0.332\n",
            "Time error for 𝜏 = 0.05 is 0.282\n",
            "Time error for 𝜏 = 0.055 is 0.241\n",
            "Time error for 𝜏 = 0.06 is 0.205\n",
            "Time error for 𝜏 = 0.065 is 0.175\n",
            "Time error for 𝜏 = 0.07 is 0.149\n",
            "Time error for 𝜏 = 0.075 is 0.127\n",
            "Time error for 𝜏 = 0.08 is 0.108\n",
            "Time error for 𝜏 = 0.085 is 0.092\n",
            "Time error for 𝜏 = 0.09 is 0.079\n",
            "Time error for 𝜏 = 0.095 is 0.067\n",
            "Time error for 𝜏 = 0.1 is 0.057\n",
            "Time error for 𝜏 = 0.105 is 0.049\n",
            "Time error for 𝜏 = 0.11 is 0.041\n",
            "Time error for 𝜏 = 0.115 is 0.035\n",
            "Time error for 𝜏 = 0.12 is 0.03\n",
            "Time error for 𝜏 = 0.125 is 0.026\n",
            "Time error for 𝜏 = 0.13 is 0.022\n",
            "Time error for 𝜏 = 0.135 is 0.019\n",
            "Time error for 𝜏 = 0.14 is 0.016\n",
            "Time error for 𝜏 = 0.145 is 0.014\n",
            "Time error for 𝜏 = 0.15 is 0.012\n"
          ]
        },
        {
          "output_type": "execute_result",
          "data": {
            "text/plain": [
              "<matplotlib.legend.Legend at 0x7eeb596d9a50>"
            ]
          },
          "metadata": {},
          "execution_count": 16
        },
        {
          "output_type": "display_data",
          "data": {
            "text/plain": [
              "<Figure size 640x480 with 1 Axes>"
            ],
            "image/png": "[encoded data removed]"
          },
          "metadata": {}
        }
      ],
      "source": [
        "def heat_analytics(x,t): # Taken from Wikipedia\n",
        "    return np.sin(4*x) * np.exp(-16 * t)\n",
        "\n",
        "mults = np.array([i for i in range(1,31)])\n",
        "time_stop = 0.015\n",
        "time_errors = list()\n",
        "for i in mults:\n",
        "    _, _, time_error = modified_heat_expl(lambda x: np.sin(4.*x), lambda x: 0., lambda x: 0.,\n",
        "                                         alpha=1., lx=np.pi, h=2, tau=0.01*i, time_stop=time_stop, true_solution=heat_analytics)\n",
        "    time_errors.append(time_error)\n",
        "    print(f'Time error for 𝜏 = {0.005*i} is {round(time_error,3)}')\n",
        "\n",
        "plt.grid()\n",
        "plt.plot(0.005*mults, time_errors, \"o--\", label='time')\n",
        "plt.legend()"
      ]
    },
    {
      "cell_type": "markdown",
      "metadata": {
        "id": "b1_3CAfiOJ0o"
      },
      "source": [
        "## Неявная схема"
      ]
    },
    {
      "cell_type": "markdown",
      "metadata": {
        "deletable": false,
        "editable": false,
        "nbgrader": {
          "cell_type": "markdown",
          "checksum": "bd301d8a40d38b24024f1ace73691c65",
          "grade": false,
          "grade_id": "cell-1e7f779d58e95cd8",
          "locked": true,
          "schema_version": 3,
          "solution": false,
          "task": false
        },
        "id": "Bva16ZV2OJ0o"
      },
      "source": [
        "Запишем разностное уравнение неявной схемы:\n",
        "$$\\dfrac{y_i^{k+1} - y_i^{k}}{\\tau} = \\alpha \\dfrac{y_{i+1}^{k+1} - 2 y_i^{k+1} + y_{i-1}^{k+1}}{h^2} + f_i^{k+1}.$$\n",
        "\n",
        "Аппроксимировать начальное и граничные условия будем так же, как в случае явной схемы."
      ]
    },
    {
      "cell_type": "markdown",
      "metadata": {
        "deletable": false,
        "editable": false,
        "nbgrader": {
          "cell_type": "markdown",
          "checksum": "0776e244056e2f5ffc45874062d692d5",
          "grade": false,
          "grade_id": "cell-212525deebf0e803",
          "locked": true,
          "schema_version": 3,
          "solution": false,
          "task": false
        },
        "id": "OIV0nUUGOJ0p"
      },
      "source": [
        "Запрограммируйте явную разностную схему решения начально-краевой задачи для однородного уравнения теплопроводности. Для решения системы линейных уравнений используйте встроенные функции `scipy`."
      ]
    },
    {
      "cell_type": "markdown",
      "metadata": {
        "id": "3tv92ATdOJ0p"
      },
      "source": [
        "Сведём вычисления к матричному виду:\n",
        "$$\\hat{u}_{n-1}\\left(\\dfrac{D}{h^2}\\right) + \\left(-2\\dfrac{D}{h^2} - \\dfrac{1}{\\tau}\\right)\\hat{u}_n + \\hat{u}_{n+1}\\left(\\dfrac{D}{h^2}\\right) = f_n$$\n",
        "или\n",
        "$$A_n \\hat u_{n-1} + B_n \\hat u_n + C_n \\hat u_{n+1} = F$$\n",
        "Вычислять u будем следующим образом:\n",
        "$$u_k = \\alpha_{k+1}u_{k+1} + \\beta_{k+1}$$\n",
        "$$u_{n-1} = \\alpha_n u_n + \\beta_n$$\n",
        "$$u_n = \\alpha_{n-1} u_{n-1} + \\beta_{n-1}$$"
      ]
    },
    {
      "cell_type": "code",
      "execution_count": 8,
      "metadata": {
        "deletable": false,
        "nbgrader": {
          "cell_type": "code",
          "checksum": "0e389e9d740d5196c0a6f5a8e2c9118f",
          "grade": false,
          "grade_id": "cell-748ac47f86cabee5",
          "locked": false,
          "schema_version": 3,
          "solution": true,
          "task": false
        },
        "id": "U3kHVNJKOJ0p"
      },
      "outputs": [],
      "source": [
        "def heat_impl(init, bound1, bound2, alpha, lx, h, tau, tol=1e-3):\n",
        "    \"\"\" Solve heat equation u_t = a*u_xx for x in (0; lx) with implicit scheme\n",
        "\n",
        "    Parameters\n",
        "    ----------\n",
        "    init : callable\n",
        "       Initial condition\n",
        "    bound1 : callable\n",
        "       Boundary condition for x = 0\n",
        "    bound1 : callable\n",
        "       Boundary condition for x = lx\n",
        "    alpha : float, optional\n",
        "       Thermal diffusivity\n",
        "    h : float\n",
        "       Spatial step\n",
        "    tau : float\n",
        "       Time step\n",
        "    tol : float, optional\n",
        "       Target tolerance.\n",
        "       Stop iterations when the 2-norm of the difference between\n",
        "       solution on this time step and the next is less the tol.\n",
        "\n",
        "    Returns\n",
        "    -------\n",
        "    t_end : float\n",
        "       End time of calculation\n",
        "    u_end : ndarray, shape (N,)\n",
        "       Limit u_∞(x) (See above)\n",
        "    \"\"\"\n",
        "    N = int(lx/h) + 1\n",
        "    temp = tau\n",
        "\n",
        "    A = alpha/h**2 # C = A, so I didn't create another variable\n",
        "    B = -2*A - 1/tau\n",
        "\n",
        "    alpha, beta = np.zeros(N), np.zeros(N)\n",
        "\n",
        "    M = np.eye(N, N) # A matrix of a system of equations to solve in implicit scheme\n",
        "    b = np.zeros(N)\n",
        "\n",
        "    current_u = [init(x) for x in range(N)] # At the beginning it's all initials\n",
        "    previous_u = np.zeros(N) # To count difference later\n",
        "\n",
        "    error = 1\n",
        "    while error > tol:\n",
        "        beta[1] = bound1(temp)\n",
        "        for i in range(2, N): # Calculate alpha and beta at this step\n",
        "            alpha[i] = -A / (A*alpha[i-1] + B)\n",
        "            beta[i] = -(A*beta[i-1] + current_u[i-1]/tau) / (A*alpha[i-1] + B)\n",
        "\n",
        "        for i in range(1, N-2): # I need to fill pre last one\n",
        "            M[i][i+1] = -alpha[i+1]\n",
        "            b[i] = beta[i+1]\n",
        "\n",
        "        b[0] = beta[1] # Reset all initials\n",
        "        b[-1] = bound2(temp)\n",
        "        b[-2] = alpha[-1]*b[-1] + beta[-1]\n",
        "\n",
        "        current_u = np.linalg.solve(M,b)\n",
        "        error = np.linalg.norm(current_u - previous_u) # Recalculate error\n",
        "        previous_u = current_u.copy() # Save current\n",
        "        temp += tau # Increment timings\n",
        "\n",
        "    return temp, current_u"
      ]
    },
    {
      "cell_type": "markdown",
      "metadata": {
        "deletable": false,
        "editable": false,
        "nbgrader": {
          "cell_type": "markdown",
          "checksum": "9e6f300ac1aa0b9646c4ebf3a4cc0e76",
          "grade": false,
          "grade_id": "cell-8e4565c92424287b",
          "locked": true,
          "schema_version": 3,
          "solution": false,
          "task": false
        },
        "id": "aYESLrHdOJ0p"
      },
      "source": [
        "Протестируйте Вашу функцию."
      ]
    },
    {
      "cell_type": "code",
      "execution_count": 9,
      "metadata": {
        "deletable": false,
        "editable": false,
        "nbgrader": {
          "cell_type": "code",
          "checksum": "18efc0a341cc626738a8bc0dce1baede",
          "grade": true,
          "grade_id": "cell-63d041371de8d78d",
          "locked": true,
          "points": 10,
          "schema_version": 3,
          "solution": false,
          "task": false
        },
        "id": "OsNoCyEMOJ0p"
      },
      "outputs": [],
      "source": [
        "from numpy.testing import assert_allclose\n",
        "\n",
        "t_0, u_0 = heat_impl(lambda x: 0., lambda x: 1., lambda x: 1.,\n",
        "                     alpha=1., lx=1., h=0.1, tau=0.005)\n",
        "assert_allclose(u_0, np.ones(11), atol=1e-2)\n",
        "\n",
        "t_1, u_1 = heat_impl(lambda x: np.sin(4.*x), lambda x: 0., lambda x: 0.,\n",
        "                     alpha=1., lx=np.pi, h=0.1, tau=0.005)\n",
        "assert_allclose(u_1, np.zeros(32), atol=1e-2)\n"
      ]
    },
    {
      "cell_type": "markdown",
      "metadata": {
        "id": "nJFcmaeSOJ0q"
      },
      "source": [
        "Определите порядки точности схемы (по пространству и времени) на тестовой задаче. (см. выше)"
      ]
    },
    {
      "cell_type": "code",
      "execution_count": 10,
      "metadata": {
        "deletable": false,
        "nbgrader": {
          "cell_type": "code",
          "checksum": "7e9fa6a6c9e040e93fe2f40f9dbae887",
          "grade": true,
          "grade_id": "cell-5b009aaeabaa68e7",
          "locked": false,
          "points": 10,
          "schema_version": 3,
          "solution": true,
          "task": false
        },
        "id": "2bX6DUd5OJ0q"
      },
      "outputs": [],
      "source": [
        "def modified_heat_impl(init, bound1, bound2, alpha, lx, h, tau, time_stop, spatial_stop, true_solution, tol=1e-3):\n",
        "    N = int(lx/h) + 1\n",
        "    temp = tau\n",
        "    length = h\n",
        "\n",
        "    A = alpha/h**2 # C = A, so I didn't create another variable\n",
        "    B = -2*A - 1/tau\n",
        "\n",
        "    alpha, beta = np.zeros(N), np.zeros(N)\n",
        "\n",
        "    M = np.eye(N, N)\n",
        "    b = np.zeros(N)\n",
        "\n",
        "    current_u = [init(x) for x in range(N)]\n",
        "    previous_u = np.zeros(N)\n",
        "\n",
        "    error = 1\n",
        "    time_error, spatial_error = 0, 0\n",
        "    while error > tol:\n",
        "        beta[1] = bound1(temp)\n",
        "        for i in range(2, N):\n",
        "            alpha[i] = -A / (A*alpha[i-1] + B)\n",
        "            beta[i] = -(A*beta[i-1] + current_u[i-1]/tau) / (A*alpha[i-1] + B)\n",
        "\n",
        "        for i in range(1, N-2):\n",
        "            M[i][i+1] = -alpha[i+1]\n",
        "            b[i] = beta[i+1]\n",
        "\n",
        "        b[0] = beta[1]\n",
        "        b[-1] = bound2(temp)\n",
        "        b[-2] = alpha[-1]*b[-1] + beta[-1]\n",
        "\n",
        "        current_u = np.linalg.solve(M,b)\n",
        "        error = np.linalg.norm(current_u - previous_u)\n",
        "        if round(temp, 3) == time_stop:\n",
        "            time_error = np.linalg.norm(current_u - true_solution)\n",
        "        if round(length, 2) == spatial_stop:\n",
        "            spatial_error = np.linalg.norm(current_u - true_solution)\n",
        "        previous_u = current_u.copy()\n",
        "        temp += tau\n",
        "        length += h\n",
        "\n",
        "    return temp, current_u, time_error, spatial_error"
      ]
    },
    {
      "cell_type": "code",
      "execution_count": 11,
      "metadata": {
        "colab": {
          "base_uri": "https://localhost:8080/",
          "height": 649
        },
        "id": "gBnQnAxeOJ0q",
        "outputId": "367691a0-38fb-4b0a-ce0a-b3d85ad51cd5"
      },
      "outputs": [
        {
          "output_type": "stream",
          "name": "stdout",
          "text": [
            "Time error for h=0.1 is 0.017663564793566202\n",
            "Spatial error for h=0.1 is 0.017663564793566202\n",
            "\n",
            "Time error for h=0.2 is 0.016647667157166604\n",
            "Spatial error for h=0.2 is 0.08936855360818576\n",
            "\n",
            "Time error for h=0.4 is 0.2783473508651399\n",
            "Spatial error for h=0.4 is 1.1682313858946936\n",
            "\n",
            "Отношения временных ошибок: 0.942486262072669, 16.719901247263643, 15.758277228757667\n",
            "Отношения пространственных ошибок: 5.05948570702656, 13.072063256349814, 66.13791720684895\n"
          ]
        },
        {
          "output_type": "execute_result",
          "data": {
            "text/plain": [
              "<matplotlib.legend.Legend at 0x7eeb6c2140d0>"
            ]
          },
          "metadata": {},
          "execution_count": 11
        },
        {
          "output_type": "display_data",
          "data": {
            "text/plain": [
              "<Figure size 640x480 with 1 Axes>"
            ],
            "image/png": "[encoded data removed]"
          },
          "metadata": {}
        }
      ],
      "source": [
        "time_errors, spatial_errors = list(), list()\n",
        "t = 0.1\n",
        "l = 2\n",
        "for i,j in enumerate([1, 2, 4]):\n",
        "    true_solution = np.zeros(32//j)\n",
        "    _, _, time_error, spatial_error = modified_heat_impl(lambda x: np.sin(4.*x), lambda x: 0., lambda x: 0.,\n",
        "                                                         alpha=1., lx=np.pi, h=0.1*j, tau=0.005, time_stop=t,\n",
        "                                                         spatial_stop=l, true_solution=true_solution)\n",
        "    time_errors.append(time_error)\n",
        "    spatial_errors.append(spatial_error)\n",
        "    print(f'Time error for h={0.1*j} is {time_errors[i]}')\n",
        "    print(f'Spatial error for h={0.1*j} is {spatial_errors[i]}\\n')\n",
        "\n",
        "print(f'Отношения временных ошибок: {time_errors[1]/time_errors[0]},' \\\n",
        "      f' {time_errors[2]/time_errors[1]}, {time_errors[2]/time_errors[0]}')\n",
        "print(f'Отношения пространственных ошибок: {spatial_errors[1]/spatial_errors[0]},' \\\n",
        "      f' {spatial_errors[2]/spatial_errors[1]}, {spatial_errors[2]/spatial_errors[0]}')\n",
        "\n",
        "plt.grid()\n",
        "plt.plot([0.1*j for j in [1,2,4]], time_errors, label='time')\n",
        "plt.plot([0.1*j for j in [1,2,4]], spatial_errors, label='spatial')\n",
        "plt.legend()"
      ]
    },
    {
      "cell_type": "code",
      "execution_count": null,
      "metadata": {
        "id": "9LuDFWnbOJ0q"
      },
      "outputs": [],
      "source": []
    }
  ],
  "metadata": {
    "kernelspec": {
      "display_name": "Python 3 (ipykernel)",
      "language": "python",
      "name": "python3"
    },
    "language_info": {
      "codemirror_mode": {
        "name": "ipython",
        "version": 3
      },
      "file_extension": ".py",
      "mimetype": "text/x-python",
      "name": "python",
      "nbconvert_exporter": "python",
      "pygments_lexer": "ipython3",
      "version": "3.9.13"
    },
    "colab": {
      "provenance": []
    }
  },
  "nbformat": 4,
  "nbformat_minor": 0
}